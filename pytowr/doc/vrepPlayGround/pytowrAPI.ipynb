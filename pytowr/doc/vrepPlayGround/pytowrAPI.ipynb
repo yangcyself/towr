{
 "cells": [
  {
   "cell_type": "markdown",
   "metadata": {},
   "source": [
    "# Pytowr 与 vrep 接口文档\n",
    "这里的基本思路是, 用pytowr跑出的结果, 指导vrep的结果. pytowr获得的是特定的时间点,机器人的身体和脚相对地面坐标系的坐标, vrep里面一般设置的是: 机器人的脚相对于机器人身体的坐标. 所以理论上我们进行坐标系转换再赋过去即可.\n",
    "\n",
    "但是由于种种问题, 目前我测试中让机器人上楼梯仍然会爆炸,没有成功过.\n",
    "\n",
    "首先遇到太高的台阶迈腿可能卡主,可能原因有:\n",
    "- 足尖点的定义不一样, 机器人算的是足尖点,但是我没有考虑机器人脚下面那个球的大小\n",
    "- 直线变化导致本来可以绕上去的曲线被我变成spline, 选取的点的连线与地面相交\n",
    "- towr本身没有考虑到地形的边缘\n",
    "解决的方法基本也就是timescale设得小一些, 抬腿的时候考虑一下脚下面的球的半径, 实在不行地图设得比搜的低一点\n",
    "\n",
    "其次机器人vrep中平地走的到位置与搜到的目标位置不符,可能的原因是:\\\n",
    "在机器人抬腿的时候,在towr中认为机器人的腿抬起来了与地面没有作用了,但是在vrep中机器人腿虽然抬了,但是和地面仍有作用力(因为并不是纯硬的),所以向前伸抬起的腿的时候仍略微向后推机器人,导致误差.\n",
    "\n",
    "还有机器人无理由爆炸的问题,可能是使力的角度不对? 我发现有时候机器人的腿比斜的时候,仍向地面用力,爆炸了,(相当于人的脚内侧着地然后夹腿)\n",
    "\n",
    ">这里面使用的pkl,但是只是为了与vrep调参方便,实际上完全不必"
   ]
  },
  {
   "cell_type": "code",
   "execution_count": 1,
   "metadata": {},
   "outputs": [
    {
     "name": "stdout",
     "output_type": "stream",
     "text": [
      "Program started\n",
      "Connected to remote API server\n"
     ]
    }
   ],
   "source": [
    "from powerGait import *"
   ]
  },
  {
   "cell_type": "markdown",
   "metadata": {},
   "source": [
    "## Restart virtual environmment"
   ]
  },
  {
   "cell_type": "code",
   "execution_count": 8,
   "metadata": {},
   "outputs": [],
   "source": [
    "vrep.simxStopSimulation(clientID, vrep.simx_opmode_blocking)\n",
    "time.sleep(5)\n",
    "status = vrep.simxStartSimulation(clientID, vrep.simx_opmode_blocking)\n",
    "# recover()"
   ]
  },
  {
   "cell_type": "markdown",
   "metadata": {},
   "source": [
    "### Load the pkl dump"
   ]
  },
  {
   "cell_type": "code",
   "execution_count": 3,
   "metadata": {},
   "outputs": [
    {
     "name": "stdout",
     "output_type": "stream",
     "text": [
      "(0.0, (0.0, 0.0, 0.45), (0.0, 0.0, 0.0), (((0.528, 0.304, 0.0), 1), ((0.0, 0.609, 0.0), 1), ((-0.528, 0.304, 0.0), 1), ((0.528, -0.304, 0.0), 1), ((0.0, -0.609, 0.0), 1), ((-0.528, -0.304, 0.0), 1)))\n"
     ]
    }
   ],
   "source": [
    "import pickle as pkl\n",
    "# with open(\"pytowrDump.pkl\",\"rb\") as f:            # walk straight to 0.5,0\n",
    "# with open(\"pytowrDump_turnAround.pkl\",\"rb\") as f: # walk to 0.5,0 and turn 90 degree\n",
    "# with open(\"pytowrDumpUpstair.pkl\",\"rb\") as f:     # try to climb a 0.5 stair at 1.0\n",
    "# with open(\"pytowrDumpstair0.3.pkl\",\"rb\") as f:    # try to climb a 0.3 stair at 1.0\n",
    "with open(\"pytowrDump_S30_T001.pkl\",\"rb\") as f:     # try to climb a 0.3 stair at 1.0 the time scale is 0.01\n",
    "# with open(\"pytowrDump_Cparallel_S03_T001.pkl\",\"rb\") as f: # try to climb a 0.3 stair at 1.0 the time scale is 0.01 with elongation constraints\n",
    "    pos = pkl.load(f)\n",
    "print(pos[0])"
   ]
  },
  {
   "cell_type": "code",
   "execution_count": 45,
   "metadata": {},
   "outputs": [
    {
     "name": "stdout",
     "output_type": "stream",
     "text": [
      "body lin [0.9352151155471802, -0.06795454770326614, 0.3022192418575287]\n",
      "body ang [-0.0004745058831758797, 0.00030683827935718, 1.4615472555160522]\n",
      "foot pos0 [0.7286672592163086, 0.4912768602371216, 0.027189865708351135]\n",
      "foot pos1 [0.3379303216934204, 0.02602500468492508, 0.02756670117378235]\n",
      "foot pos2 [0.6170831918716431, -0.5689376592636108, 0.02777153253555298]\n",
      "foot pos3 [1.3444076776504517, 0.3952353298664093, 0.026982754468917847]\n",
      "foot pos4 [1.5904252529144287, -0.1395203173160553, 0.027124375104904175]\n",
      "foot pos5 [1.1430811882019043, -0.638715386390686, 0.027585431933403015]\n"
     ]
    }
   ],
   "source": [
    "# check the pos 0 with the current robot posture\n",
    "print(\"body lin\",vrep.simxGetObjectPosition(clientID, BCS, -1, vrep.simx_opmode_oneshot_wait)[1])\n",
    "print(\"body ang\",vrep.simxGetObjectOrientation(clientID, BCS, -1, vrep.simx_opmode_oneshot_wait)[1])\n",
    "for i in range(6):\n",
    "    print(\"foot pos%d\"%i,vrep.simxGetObjectPosition(clientID, S1[i], -1, vrep.simx_opmode_oneshot_wait)[1])"
   ]
  },
  {
   "cell_type": "markdown",
   "metadata": {},
   "source": [
    "### The turn function\n",
    "transform the position in global axis to robot axis"
   ]
  },
  {
   "cell_type": "code",
   "execution_count": 5,
   "metadata": {},
   "outputs": [
    {
     "data": {
      "text/plain": [
       "array([[ 7.96326711e-04,  9.99999683e-01,  1.57000000e+00],\n",
       "       [-9.99999683e-01,  7.96326711e-04, -2.00000000e+00]])"
      ]
     },
     "execution_count": 5,
     "metadata": {},
     "output_type": "execute_result"
    }
   ],
   "source": [
    "from scipy.spatial.transform import Rotation as Rot\n",
    "def turnDeg(rot_vec, m):\n",
    "    r = Rot.from_rotvec(rot_vec)\n",
    "    return r.apply(m)\n",
    "turnDeg(np.array([0,0,1.57]),np.array([[1,0,1.57],[0,1,-2]]))"
   ]
  },
  {
   "cell_type": "code",
   "execution_count": 9,
   "metadata": {},
   "outputs": [
    {
     "name": "stdout",
     "output_type": "stream",
     "text": [
      "0\n",
      "1\n",
      "2\n",
      "3\n",
      "4\n",
      "5\n",
      "6\n",
      "7\n",
      "8\n",
      "9\n",
      "10\n",
      "11\n",
      "12\n",
      "13\n",
      "14\n",
      "15\n",
      "16\n",
      "17\n",
      "18\n",
      "19\n",
      "20\n",
      "21\n",
      "22\n",
      "23\n",
      "24\n",
      "25\n",
      "26\n",
      "27\n",
      "28\n",
      "29\n",
      "30\n",
      "31\n",
      "32\n",
      "33\n",
      "34\n",
      "35\n",
      "36\n",
      "37\n",
      "38\n",
      "39\n",
      "40\n",
      "41\n",
      "42\n",
      "43\n",
      "44\n",
      "45\n",
      "46\n",
      "47\n",
      "48\n",
      "49\n",
      "50\n",
      "51\n",
      "52\n",
      "53\n",
      "54\n",
      "55\n",
      "56\n",
      "57\n",
      "58\n",
      "59\n",
      "60\n",
      "61\n",
      "62\n",
      "63\n"
     ]
    },
    {
     "ename": "KeyboardInterrupt",
     "evalue": "",
     "output_type": "error",
     "traceback": [
      "\u001b[1;31m---------------------------------------------------------------------------\u001b[0m",
      "\u001b[1;31mKeyboardInterrupt\u001b[0m                         Traceback (most recent call last)",
      "\u001b[1;32m<ipython-input-9-9d3101e014b8>\u001b[0m in \u001b[0;36m<module>\u001b[1;34m()\u001b[0m\n\u001b[0;32m      6\u001b[0m     \u001b[0mfootpos\u001b[0m\u001b[1;33m+=\u001b[0m\u001b[0mnp\u001b[0m\u001b[1;33m.\u001b[0m\u001b[0marray\u001b[0m\u001b[1;33m(\u001b[0m\u001b[1;33m[\u001b[0m\u001b[1;36m0\u001b[0m\u001b[1;33m,\u001b[0m\u001b[1;36m0\u001b[0m\u001b[1;33m,\u001b[0m\u001b[1;36m0.02\u001b[0m\u001b[1;33m]\u001b[0m\u001b[1;33m)\u001b[0m \u001b[1;31m# The amount of the ped ball\u001b[0m\u001b[1;33m\u001b[0m\u001b[0m\n\u001b[0;32m      7\u001b[0m     \u001b[1;31m# footpos.shape\u001b[0m\u001b[1;33m\u001b[0m\u001b[1;33m\u001b[0m\u001b[0m\n\u001b[1;32m----> 8\u001b[1;33m     \u001b[0mtransTo\u001b[0m\u001b[1;33m(\u001b[0m\u001b[0mfootpos\u001b[0m\u001b[1;33m)\u001b[0m\u001b[1;33m\u001b[0m\u001b[0m\n\u001b[0m",
      "\u001b[1;32mD:\\yangcy\\UNVjunior\\tmp\\vrepPlayGround\\powerGait.py\u001b[0m in \u001b[0;36mtransTo\u001b[1;34m(target, n)\u001b[0m\n\u001b[0;32m     90\u001b[0m         \u001b[0mvrep\u001b[0m\u001b[1;33m.\u001b[0m\u001b[0msimxSynchronousTrigger\u001b[0m\u001b[1;33m(\u001b[0m\u001b[0mclientID\u001b[0m\u001b[1;33m)\u001b[0m\u001b[1;33m\u001b[0m\u001b[0m\n\u001b[0;32m     91\u001b[0m         \u001b[1;32mfor\u001b[0m \u001b[0mj\u001b[0m \u001b[1;32min\u001b[0m \u001b[0mrange\u001b[0m\u001b[1;33m(\u001b[0m\u001b[1;36m6\u001b[0m\u001b[1;33m)\u001b[0m\u001b[1;33m:\u001b[0m\u001b[1;33m\u001b[0m\u001b[0m\n\u001b[1;32m---> 92\u001b[1;33m             \u001b[0mvrep\u001b[0m\u001b[1;33m.\u001b[0m\u001b[0msimxSetObjectPosition\u001b[0m\u001b[1;33m(\u001b[0m\u001b[0mclientID\u001b[0m\u001b[1;33m,\u001b[0m \u001b[0mTip_target\u001b[0m\u001b[1;33m[\u001b[0m\u001b[0mj\u001b[0m\u001b[1;33m]\u001b[0m\u001b[1;33m,\u001b[0m \u001b[0mBCS\u001b[0m\u001b[1;33m,\u001b[0m \u001b[0minitPos\u001b[0m\u001b[1;33m[\u001b[0m\u001b[0mj\u001b[0m\u001b[1;33m]\u001b[0m\u001b[1;33m,\u001b[0m\u001b[0mvrep\u001b[0m\u001b[1;33m.\u001b[0m\u001b[0msimx_opmode_oneshot_wait\u001b[0m\u001b[1;33m)\u001b[0m\u001b[1;33m\u001b[0m\u001b[0m\n\u001b[0m\u001b[0;32m     93\u001b[0m     \u001b[1;32mfor\u001b[0m \u001b[0mj\u001b[0m \u001b[1;32min\u001b[0m \u001b[0mrange\u001b[0m\u001b[1;33m(\u001b[0m\u001b[1;36m6\u001b[0m\u001b[1;33m)\u001b[0m\u001b[1;33m:\u001b[0m\u001b[1;33m\u001b[0m\u001b[0m\n\u001b[0;32m     94\u001b[0m         \u001b[0mvrep\u001b[0m\u001b[1;33m.\u001b[0m\u001b[0msimxSetObjectPosition\u001b[0m\u001b[1;33m(\u001b[0m\u001b[0mclientID\u001b[0m\u001b[1;33m,\u001b[0m \u001b[0mTip_target\u001b[0m\u001b[1;33m[\u001b[0m\u001b[0mj\u001b[0m\u001b[1;33m]\u001b[0m\u001b[1;33m,\u001b[0m \u001b[0mBCS\u001b[0m\u001b[1;33m,\u001b[0m \u001b[0mtarget\u001b[0m\u001b[1;33m[\u001b[0m\u001b[0mj\u001b[0m\u001b[1;33m]\u001b[0m\u001b[1;33m,\u001b[0m\u001b[0mvrep\u001b[0m\u001b[1;33m.\u001b[0m\u001b[0msimx_opmode_oneshot_wait\u001b[0m\u001b[1;33m)\u001b[0m\u001b[1;33m\u001b[0m\u001b[0m\n",
      "\u001b[1;32mD:\\yangcy\\UNVjunior\\tmp\\vrepPlayGround\\vrep.py\u001b[0m in \u001b[0;36msimxSetObjectPosition\u001b[1;34m(clientID, objectHandle, relativeToObjectHandle, position, operationMode)\u001b[0m\n\u001b[0;32m    568\u001b[0m \u001b[1;33m\u001b[0m\u001b[0m\n\u001b[0;32m    569\u001b[0m     \u001b[0mc_position\u001b[0m \u001b[1;33m=\u001b[0m \u001b[1;33m(\u001b[0m\u001b[0mct\u001b[0m\u001b[1;33m.\u001b[0m\u001b[0mc_float\u001b[0m\u001b[1;33m*\u001b[0m\u001b[1;36m3\u001b[0m\u001b[1;33m)\u001b[0m\u001b[1;33m(\u001b[0m\u001b[1;33m*\u001b[0m\u001b[0mposition\u001b[0m\u001b[1;33m)\u001b[0m\u001b[1;33m\u001b[0m\u001b[0m\n\u001b[1;32m--> 570\u001b[1;33m     \u001b[1;32mreturn\u001b[0m \u001b[0mc_SetObjectPosition\u001b[0m\u001b[1;33m(\u001b[0m\u001b[0mclientID\u001b[0m\u001b[1;33m,\u001b[0m \u001b[0mobjectHandle\u001b[0m\u001b[1;33m,\u001b[0m \u001b[0mrelativeToObjectHandle\u001b[0m\u001b[1;33m,\u001b[0m \u001b[0mc_position\u001b[0m\u001b[1;33m,\u001b[0m \u001b[0moperationMode\u001b[0m\u001b[1;33m)\u001b[0m\u001b[1;33m\u001b[0m\u001b[0m\n\u001b[0m\u001b[0;32m    571\u001b[0m \u001b[1;33m\u001b[0m\u001b[0m\n\u001b[0;32m    572\u001b[0m \u001b[1;32mdef\u001b[0m \u001b[0msimxSetObjectParent\u001b[0m\u001b[1;33m(\u001b[0m\u001b[0mclientID\u001b[0m\u001b[1;33m,\u001b[0m \u001b[0mobjectHandle\u001b[0m\u001b[1;33m,\u001b[0m \u001b[0mparentObject\u001b[0m\u001b[1;33m,\u001b[0m \u001b[0mkeepInPlace\u001b[0m\u001b[1;33m,\u001b[0m \u001b[0moperationMode\u001b[0m\u001b[1;33m)\u001b[0m\u001b[1;33m:\u001b[0m\u001b[1;33m\u001b[0m\u001b[0m\n",
      "\u001b[1;31mKeyboardInterrupt\u001b[0m: "
     ]
    }
   ],
   "source": [
    "for i,p in enumerate(pos):\n",
    "    print(i)\n",
    "    body_lin = np.array(p[1])\n",
    "    footpos = np.array([f[0]-body_lin for f in p[3] ] )\n",
    "    footpos = turnDeg(-np.array(p[2]),footpos)\n",
    "    footpos+=np.array([0,0,0.02]) # The radius of the ped ball 也就是transto的坐标是设置机器人那个足尖点的坐标,但是足尖点下面与地面接触的是一个球,需要把这个球的大小考虑进来\n",
    "    # footpos.shape\n",
    "    transTo(footpos)"
   ]
  },
  {
   "cell_type": "code",
   "execution_count": null,
   "metadata": {},
   "outputs": [],
   "source": []
  }
 ],
 "metadata": {
  "kernelspec": {
   "display_name": "Python 3",
   "language": "python",
   "name": "python3"
  },
  "language_info": {
   "codemirror_mode": {
    "name": "ipython",
    "version": 3
   },
   "file_extension": ".py",
   "mimetype": "text/x-python",
   "name": "python",
   "nbconvert_exporter": "python",
   "pygments_lexer": "ipython3",
   "version": "3.5.6"
  }
 },
 "nbformat": 4,
 "nbformat_minor": 2
}
