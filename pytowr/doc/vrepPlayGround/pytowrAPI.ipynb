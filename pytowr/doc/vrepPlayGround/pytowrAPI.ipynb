{
 "cells": [
  {
   "cell_type": "markdown",
   "metadata": {},
   "source": [
    "# Pytowr 与 vrep 接口文档\n",
    "这里的基本思路是, 用pytowr跑出的结果, 指导vrep的结果. pytowr获得的是特定的时间点,机器人的身体和脚相对地面坐标系的坐标, vrep里面一般设置的是: 机器人的脚相对于机器人身体的坐标. 所以理论上我们进行坐标系转换再赋过去即可.\n",
    "\n",
    "但是由于种种问题, 目前我测试中让机器人上楼梯仍然会爆炸,没有成功过.\n",
    "\n",
    "首先遇到太高的台阶迈腿可能卡主,可能原因有:\n",
    "- 足尖点的定义不一样, 机器人算的是足尖点,但是我没有考虑机器人脚下面那个球的大小\n",
    "- 直线变化导致本来可以绕上去的曲线被我变成spline, 选取的点的连线与地面相交\n",
    "- towr本身没有考虑到地形的边缘\n",
    "解决的方法基本也就是timescale设得小一些, 抬腿的时候考虑一下脚下面的球的半径, 实在不行地图设得比搜的低一点\n",
    "\n",
    "其次机器人vrep中平地走的到位置与搜到的目标位置不符,可能的原因是:\\\n",
    "在机器人抬腿的时候,在towr中认为机器人的腿抬起来了与地面没有作用了,但是在vrep中机器人腿虽然抬了,但是和地面仍有作用力(因为并不是纯硬的),所以向前伸抬起的腿的时候仍略微向后推机器人,导致误差.\n",
    "\n",
    "还有机器人无理由爆炸的问题,可能是使力的角度不对? 我发现有时候机器人的腿比斜的时候,仍向地面用力,爆炸了,(相当于人的脚内侧着地然后夹腿)\n",
    "\n",
    ">这里面使用的pkl,但是只是为了与vrep调参方便,实际上完全不必"
   ]
  },
  {
   "cell_type": "code",
   "execution_count": 1,
   "metadata": {},
   "outputs": [
    {
     "name": "stdout",
     "output_type": "stream",
     "text": [
      "Program started\n",
      "Connected to remote API server\n"
     ]
    }
   ],
   "source": [
    "from powerGait import *"
   ]
  },
  {
   "cell_type": "markdown",
   "metadata": {},
   "source": [
    "## Restart virtual environmment"
   ]
  },
  {
   "cell_type": "code",
   "execution_count": 2,
   "metadata": {},
   "outputs": [],
   "source": [
    "vrep.simxStopSimulation(clientID, vrep.simx_opmode_blocking)\n",
    "time.sleep(5)\n",
    "status = vrep.simxStartSimulation(clientID, vrep.simx_opmode_blocking)\n",
    "# recover()"
   ]
  },
  {
   "cell_type": "markdown",
   "metadata": {},
   "source": [
    "### Load the pkl dump"
   ]
  },
  {
   "cell_type": "code",
   "execution_count": 3,
   "metadata": {},
   "outputs": [
    {
     "name": "stdout",
     "output_type": "stream",
     "text": [
      "(0.0, (0.0, 0.0, 0.45), (0.0, 0.0, 0.0), (((0.528, 0.304, 0.0), 1), ((0.0, 0.609, 0.0), 1), ((-0.528, 0.304, 0.0), 1), ((0.528, -0.304, 0.0), 1), ((0.0, -0.609, 0.0), 1), ((-0.528, -0.304, 0.0), 1)))\n"
     ]
    }
   ],
   "source": [
    "import pickle as pkl\n",
    "# with open(\"pytowrDump.pkl\",\"rb\") as f:            # walk straight to 0.5,0\n",
    "# with open(\"pytowrDump_turnAround.pkl\",\"rb\") as f: # walk to 0.5,0 and turn 90 degree\n",
    "# with open(\"pytowrDumpUpstair.pkl\",\"rb\") as f:     # try to climb a 0.5 stair at 1.0\n",
    "# with open(\"pytowrDumpstair0.3.pkl\",\"rb\") as f:    # try to climb a 0.3 stair at 1.0\n",
    "#with open(\"pytowrDump_S30_T001.pkl\",\"rb\") as f:     # try to climb a 0.3 stair at 1.0 the time scale is 0.01\n",
    "# with open(\"pytowrDump_Cparallel_S03_T001.pkl\",\"rb\") as f: # try to climb a 0.3 stair at 1.0 the time scale is 0.01 with elongation constraints\n",
    "with open(\"2_0_01.pkl\", \"rb\") as f:    \n",
    "    pos = pkl.load(f)\n",
    "print(pos[0])"
   ]
  },
  {
   "cell_type": "code",
   "execution_count": 4,
   "metadata": {},
   "outputs": [
    {
     "name": "stdout",
     "output_type": "stream",
     "text": [
      "body lin [-6.062001557438634e-05, 1.850207627285272e-05, 0.4749910235404968]\n",
      "body ang [-7.741052172605123e-07, 1.0813166682055453e-06, -6.789843496335379e-07]\n",
      "foot pos0 [0.5275170803070068, 0.304587721824646, 0.029659509658813477]\n",
      "foot pos1 [-8.326489478349686e-05, 0.6091281175613403, 0.029286950826644897]\n",
      "foot pos2 [-0.5275862812995911, 0.3044736981391907, 0.02915102243423462]\n",
      "foot pos3 [0.527580201625824, -0.30447322130203247, 0.028858214616775513]\n",
      "foot pos4 [7.784087210893631e-05, -0.6091256737709045, 0.02884235978126526]\n",
      "foot pos5 [-0.5275050401687622, -0.3046128749847412, 0.02900874614715576]\n"
     ]
    }
   ],
   "source": [
    "# check the pos 0 with the current robot posture\n",
    "print(\"body lin\",vrep.simxGetObjectPosition(clientID, BCS, -1, vrep.simx_opmode_oneshot_wait)[1])\n",
    "print(\"body ang\",vrep.simxGetObjectOrientation(clientID, BCS, -1, vrep.simx_opmode_oneshot_wait)[1])\n",
    "for i in range(6):\n",
    "    print(\"foot pos%d\"%i,vrep.simxGetObjectPosition(clientID, S1[i], -1, vrep.simx_opmode_oneshot_wait)[1])"
   ]
  },
  {
   "cell_type": "markdown",
   "metadata": {},
   "source": [
    "### The turn function\n",
    "transform the position in global axis to robot axis"
   ]
  },
  {
   "cell_type": "code",
   "execution_count": 5,
   "metadata": {},
   "outputs": [
    {
     "data": {
      "text/plain": [
       "array([[ 7.96326711e-04,  9.99999683e-01,  1.57000000e+00],\n",
       "       [-9.99999683e-01,  7.96326711e-04, -2.00000000e+00]])"
      ]
     },
     "execution_count": 5,
     "metadata": {},
     "output_type": "execute_result"
    }
   ],
   "source": [
    "from scipy.spatial.transform import Rotation as Rot\n",
    "def turnDeg(rot_vec, m):\n",
    "    r = Rot.from_rotvec(rot_vec)\n",
    "    return r.apply(m)\n",
    "turnDeg(np.array([0,0,1.57]),np.array([[1,0,1.57],[0,1,-2]]))"
   ]
  },
  {
   "cell_type": "code",
   "execution_count": null,
   "metadata": {},
   "outputs": [
    {
     "name": "stdout",
     "output_type": "stream",
     "text": [
      "0\n",
      "1\n",
      "2\n",
      "3\n",
      "4\n",
      "5\n",
      "6\n",
      "7\n",
      "8\n",
      "9\n",
      "10\n",
      "11\n",
      "12\n",
      "13\n"
     ]
    }
   ],
   "source": [
    "for i,p in enumerate(pos):\n",
    "    print(i)\n",
    "    body_lin = np.array(p[1])\n",
    "    footpos = np.array([f[0]-body_lin for f in p[3] ] )\n",
    "    footpos = turnDeg(-np.array(p[2]),footpos)\n",
    "    footpos+=np.array([0,0,0.02]) # The radius of the ped ball 也就是transto的坐标是设置机器人那个足尖点的坐标,但是足尖点下面与地面接触的是一个球,需要把这个球的大小考虑进来\n",
    "    # footpos.shape\n",
    "    transTo(footpos)"
   ]
  },
  {
   "cell_type": "code",
   "execution_count": null,
   "metadata": {},
   "outputs": [],
   "source": []
  }
 ],
 "metadata": {
  "kernelspec": {
   "display_name": "Python 3",
   "language": "python",
   "name": "python3"
  },
  "language_info": {
   "codemirror_mode": {
    "name": "ipython",
    "version": 3
   },
   "file_extension": ".py",
   "mimetype": "text/x-python",
   "name": "python",
   "nbconvert_exporter": "python",
   "pygments_lexer": "ipython3",
   "version": "3.7.3"
  }
 },
 "nbformat": 4,
 "nbformat_minor": 2
}
